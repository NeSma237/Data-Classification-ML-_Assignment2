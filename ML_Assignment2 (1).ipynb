{
  "nbformat": 4,
  "nbformat_minor": 0,
  "metadata": {
    "colab": {
      "provenance": []
    },
    "kernelspec": {
      "name": "python3",
      "display_name": "Python 3"
    },
    "language_info": {
      "name": "python"
    }
  },
  "cells": [
    {
      "cell_type": "markdown",
      "source": [
        "\n",
        "\n",
        "---\n",
        "\n",
        "\n",
        "# **1. Import Libraries**\n",
        "\n",
        "\n",
        "\n",
        ">  **Data Handling**\n",
        "\n",
        "\n",
        "*   **pandas** is used to load and manipulate datasets (e.g., reading the CSV, handling tables).\n",
        "\n",
        "*   **numpy** is used for numerical operations — arrays, statistics, random sampling, etc.\n",
        "\n",
        "> Data Preprocessing & Splitting\n",
        "\n",
        "*   **train_test_split** splits your dataset into training and testing sets.\n",
        "\n",
        "*   **cross_val_score** is used to evaluate your model's generalizability via cross-validation.\n",
        "\n",
        "*   **GridSearchCV** helps you tune model parameters (like n_estimators for AdaBoost and Random Forest) automatically by testing multiple values.\n",
        "\n",
        "\n",
        "\n",
        "> Evaluation Metrics\n",
        "\n",
        "    from sklearn.metrics import classification_report, confusion_matrix\n",
        "    from sklearn.metrics import accuracy_score, precision_score, recall_score, f1_score\n",
        "\n",
        "\n",
        "  These are used to evaluate how well your model performs on the test set:\n",
        "\n",
        "* **Accuracy**: How many predictions were correct.\n",
        "\n",
        "* **Precision**: Out of predicted positives, how many were actually positive.\n",
        "\n",
        "* **Recall**: Out of actual positives, how many were caught.\n",
        "\n",
        "* **F1-Score**: Harmonic mean of precision and recall.\n",
        "\n",
        "* **Confusion Matrix**: A matrix showing true positives, false positives, etc.\n",
        "\n",
        "* **Classification Report**: A full printout of all the above.\n",
        "\n",
        "\n",
        "\n",
        "\n",
        "> **Models**\n",
        "\n",
        "* **DecisionTreeClassifier , AdaBoostClassifier , RandomForestClassifier , GaussianNB** :These are the four models you’ll be using\n",
        "\n",
        "\n",
        "> **Label Encoding**\n",
        "\n",
        "* **LabelEncoder** : This is used to convert the class column (which has text values like \"g\" and \"h\") into numeric values (like 1 and 0) that models can understand.\n",
        "\n",
        "> **Visualization**\n",
        "\n",
        "These help you visualize confusion matrices (and anything else, like feature importance later).\n",
        "\n",
        "* **seaborn**: Nice heatmaps for confusion matrix.\n",
        "\n",
        "* **matplotlib**: Basic plotting library.\n",
        "\n",
        "\n",
        "---\n",
        "\n",
        "\n",
        "\n"
      ],
      "metadata": {
        "id": "EvpnD0CvZ4f5"
      }
    },
    {
      "cell_type": "code",
      "execution_count": 58,
      "metadata": {
        "id": "gBfZSaW8W-fF"
      },
      "outputs": [],
      "source": [
        "import pandas as pd\n",
        "import numpy as np\n",
        "from sklearn.model_selection import train_test_split, cross_val_score, GridSearchCV\n",
        "from sklearn.metrics import classification_report, confusion_matrix\n",
        "from sklearn.tree import DecisionTreeClassifier\n",
        "from sklearn.ensemble import AdaBoostClassifier\n",
        "from sklearn.ensemble import RandomForestClassifier\n",
        "from sklearn.naive_bayes import GaussianNB\n",
        "from sklearn.preprocessing import LabelEncoder\n",
        "from sklearn.metrics import accuracy_score, precision_score, recall_score, f1_score\n",
        "import seaborn as sns\n",
        "import matplotlib.pyplot as plt"
      ]
    },
    {
      "cell_type": "markdown",
      "source": [
        "\n",
        "\n",
        "---\n",
        "\n",
        "\n",
        "# **2. Loading the Dataset**\n",
        "* **url** points to the MAGIC Gamma Telescope dataset.\n",
        "\n",
        "* The dataset doesn’t have headers, so you manually set the column names based on the UCI documentation.\n",
        "\n",
        "* **pd.read_csv()** reads the file directly from the URL into a DataFrame called df.\n",
        "\n",
        "\n",
        "---\n",
        "\n"
      ],
      "metadata": {
        "id": "oPlmJz3cl5o2"
      }
    },
    {
      "cell_type": "code",
      "source": [
        "# Load the dataset\n",
        "url = \"https://archive.ics.uci.edu/ml/machine-learning-databases/magic/magic04.data\"\n",
        "columns = ['fLength', 'fWidth', 'fSize', 'fConc', 'fConc1', 'fAsym',\n",
        "           'fM3Long', 'fM3Trans', 'fAlpha', 'fDist', 'class']\n",
        "df = pd.read_csv(url, names=columns)\n",
        "\n",
        "\n",
        "# Check class balance\n",
        "#This line prints how many instances of each class there are\n",
        "print(df['class'].value_counts())\n"
      ],
      "metadata": {
        "colab": {
          "base_uri": "https://localhost:8080/"
        },
        "id": "f_NxR51OZleM",
        "outputId": "3678b27b-f815-4e60-befc-91f0f57a56d1"
      },
      "execution_count": 50,
      "outputs": [
        {
          "output_type": "stream",
          "name": "stdout",
          "text": [
            "class\n",
            "g    12332\n",
            "h     6688\n",
            "Name: count, dtype: int64\n"
          ]
        }
      ]
    },
    {
      "cell_type": "markdown",
      "source": [
        "\n",
        "# **3.The original dataset is imbalanced**\n",
        "\n",
        "\n",
        "*  Around **12,332** ' g ' (gamma) events\n",
        "*   Around **6,688** ' h ' (hadron) events\n",
        "\n",
        "\n",
        "\n",
        " We need to make them equal, so we randomly downsample the **' g '** class to\n",
        "match the size of the **' h '** class.\n",
        "\n",
        "*  Splits the dataset into two separate\n",
        "DataFrames:\n",
        "\n",
        " *   gamma_df: all rows where the class is **' g '**\n",
        " *   hadron_df: all rows where the class is **' h '**\n",
        "\n",
        "\n",
        "---\n",
        "\n",
        "\n",
        " *  Randomly selects only as many gamma samples as there are hadron samples (6,688).\n",
        "\n",
        "  * This ensures the two classes will be balanced.\n",
        "\n",
        "  * **random_state**=42 makes the results reproducible (same shuffle each run).\n",
        "\n",
        "\n",
        "---\n",
        "*  Combines the sampled gamma rows with all hadron rows. Then:\n",
        "\n",
        " * **sample(frac=1)**: shuffles the combined dataset.\n",
        "\n",
        " * **reset_index(drop=True)**: resets: the row indices.\n",
        "\n",
        "\n",
        "\n",
        "---\n",
        "\n",
        "\n",
        "\n",
        "\n",
        "\n",
        "\n",
        "\n",
        "\n",
        "\n"
      ],
      "metadata": {
        "id": "nrwuZNsdoCp_"
      }
    },
    {
      "cell_type": "code",
      "source": [
        "df.columns = ['fLength', 'fWidth', 'fSize', 'fConc', 'fConc1', 'fAsym',\n",
        "              'fM3Long', 'fM3Trans', 'fAlpha', 'fDist', 'class']\n",
        "df = pd.read_csv(url, names=columns)\n",
        "\n",
        "# Separate the classes\n",
        "gamma_df = df[df['class'] == 'g']\n",
        "hadron_df = df[df['class'] == 'h']\n",
        "\n",
        "# Balance by random sampling the gamma class\n",
        "gamma_sample = gamma_df.sample(n=len(hadron_df), random_state=42)\n",
        "\n",
        "# Combine balanced data\n",
        "balanced_df = pd.concat([gamma_sample, hadron_df]).sample(frac=1, random_state=42).reset_index(drop=True)\n",
        "\n",
        "# Confirm balanced classes\n",
        "print(balanced_df['class'].value_counts())"
      ],
      "metadata": {
        "colab": {
          "base_uri": "https://localhost:8080/"
        },
        "id": "lZdc7PXvfLWV",
        "outputId": "162edb24-8597-4a43-9f94-b6cc94527867"
      },
      "execution_count": 51,
      "outputs": [
        {
          "output_type": "stream",
          "name": "stdout",
          "text": [
            "class\n",
            "h    6688\n",
            "g    6688\n",
            "Name: count, dtype: int64\n"
          ]
        }
      ]
    },
    {
      "cell_type": "markdown",
      "source": [
        "#**4.Splitting Features and Target**\n",
        "\n",
        "\n",
        "\n",
        "* **X** contains all the input features — these are the columns used to predict the class.\n",
        "\n",
        "* **y** is the target (or label) — the class column, which indicates whether the event is a gamma (1) or hadron (0).\n",
        "\n",
        "By separating features from labels:\n",
        "\n",
        "* it's clear what the model will train on (X)\n",
        "\n",
        "* And what it will try to predict (y)"
      ],
      "metadata": {
        "id": "ZmFs7Kxxe6lm"
      }
    },
    {
      "cell_type": "code",
      "source": [
        "# Split features and target\n",
        "X = balanced_df.drop('class', axis=1)\n",
        "y = balanced_df['class']"
      ],
      "metadata": {
        "id": "LVbQGxb-an5j"
      },
      "execution_count": 52,
      "outputs": []
    },
    {
      "cell_type": "markdown",
      "source": [
        "\n",
        "\n",
        "---\n",
        "\n",
        "\n",
        "# **5.Train/Test Split**\n",
        "What each parameter does:\n",
        "* **X, y**: The full dataset (features and target).\n",
        "\n",
        "* **test_size=0.3**: 30% of the data is used for testing, 70% for training.\n",
        "\n",
        "* **random_state=42**: Ensures the same split every time you run the code — helps with reproducibility.\n",
        "\n",
        "* **stratify=y**: This is important — it ensures that both the training and testing sets preserve the original class distribution (i.e. same ratio of gammas and hadrons)."
      ],
      "metadata": {
        "id": "CqPlWKLyorqv"
      }
    },
    {
      "cell_type": "code",
      "source": [
        "# Split into Train/Test Sets\n",
        "X_train, X_test, y_train, y_test = train_test_split(\n",
        "    X, y, test_size=0.3, random_state=42, stratify=y)\n"
      ],
      "metadata": {
        "id": "cHpzN1kWaZ0o"
      },
      "execution_count": null,
      "outputs": []
    },
    {
      "cell_type": "markdown",
      "source": [
        "---\n",
        "# **Function Purpose**\n",
        "To evaluate a trained classification model and print:\n",
        "\n",
        "* **Accuracy**\n",
        "\n",
        "* **Precision**\n",
        "\n",
        "* **Recall**\n",
        "\n",
        "* **F1 Score**\n",
        "\n",
        "* **Confusion Matrix** (both printed and visualized as a heatmap)"
      ],
      "metadata": {
        "id": "y2Pef07TpUgN"
      }
    },
    {
      "cell_type": "code",
      "source": [
        "def evaluate_model(name, model, X_test, y_test):\n",
        "    y_pred = model.predict(X_test)\n",
        "    print(f\"\\n=== {name} ===\")\n",
        "    print(\"Accuracy:\", accuracy_score(y_test, y_pred))\n",
        "    # Set pos_label to the original label for the positive class ('g')\n",
        "    print(\"Precision:\", precision_score(y_test, y_pred, pos_label='g'))\n",
        "    print(\"Recall:\", recall_score(y_test, y_pred, pos_label='g'))\n",
        "    print(\"F1 Score:\", f1_score(y_test, y_pred, pos_label='g'))\n",
        "    print(\"Confusion Matrix:\\n\", confusion_matrix(y_test, y_pred))\n",
        "    # Uses Seaborn to visualize the confusion matrix.\n",
        "    sns.heatmap(confusion_matrix(y_test, y_pred), annot=True, fmt='d', cmap='Reds')\n",
        "    plt.title(f'{name} - Confusion Matrix')\n",
        "    plt.xlabel('Predicted')\n",
        "    plt.ylabel('Actual')\n",
        "    plt.show()"
      ],
      "metadata": {
        "id": "mtjC2Z5Paxd7"
      },
      "execution_count": 53,
      "outputs": []
    },
    {
      "cell_type": "markdown",
      "source": [
        "---\n",
        "# **5.Training the Decision Tree**\n",
        "    dt = DecisionTreeClassifier(random_state=42)\n",
        "* This initializes a Decision Tree classifier.\n",
        "\n",
        "* **random_state=42** ensures consistent results every time you run it.\n",
        "\n",
        "      dt.fit(X_train, y_train)\n",
        "\n",
        " * Trains the decision tree using the training data (X_train and y_train).\n",
        "\n",
        "        evaluate_model(\"Decision Tree\", dt, X_test, y_test)\n",
        "   * Calls your custom evaluate_model() function.\n",
        "\n",
        "**Outputs:**\n",
        "\n",
        "* Accuracy, Precision, Recall, F1-Score\n",
        "\n",
        "* Confusion matrix (printed and heatmap)"
      ],
      "metadata": {
        "id": "ZVNQ8lxprKec"
      }
    },
    {
      "cell_type": "code",
      "source": [
        "#Decision Tree\n",
        "dt = DecisionTreeClassifier(random_state=42)\n",
        "dt.fit(X_train, y_train)\n",
        "evaluate_model(\"Decision Tree\", dt, X_test, y_test)"
      ],
      "metadata": {
        "colab": {
          "base_uri": "https://localhost:8080/",
          "height": 628
        },
        "id": "VADsTTNQb2Hi",
        "outputId": "0d12fd76-b3ef-47e5-901c-37d74b88671e"
      },
      "execution_count": 54,
      "outputs": [
        {
          "output_type": "stream",
          "name": "stdout",
          "text": [
            "\n",
            "=== Decision Tree ===\n",
            "Accuracy: 0.8257974062390466\n",
            "Precision: 0.8660714285714286\n",
            "Recall: 0.8651351351351352\n",
            "F1 Score: 0.8656030286641427\n",
            "Confusion Matrix:\n",
            " [[3201  499]\n",
            " [ 495 1511]]\n"
          ]
        },
        {
          "output_type": "display_data",
          "data": {
            "text/plain": [
              "<Figure size 640x480 with 2 Axes>"
            ],
            "image/png": "[encoded data removed]"
          },
          "metadata": {}
        }
      ]
    },
    {
      "cell_type": "markdown",
      "source": [
        "\n",
        "\n",
        "---\n",
        "\n",
        "\n",
        "# **6.AdaBoost (tuning n_estimators)**\n",
        "**Tuning AdaBoost (n_estimators)**\n",
        "\n",
        "    ab_params = {'n_estimators': [10, 50, 100, 200]}\n",
        "\n",
        "* **n_estimators** defines the number of weak learners (typically decision stumps) AdaBoost will combine — higher values may improve performance but increase training time.\n",
        "\n",
        "          ab = GridSearchCV(AdaBoostClassifier(random_state=42), ab_params, cv=5)\n",
        "\n",
        "  * GridSearchCV will train the model using each value in ab_params with 5-fold cross-validation.\n",
        "\n",
        "  * It finds the best n_estimators based on cross-validated accuracy.\n",
        "\n",
        "\n"
      ],
      "metadata": {
        "id": "gvVhtt_TJSPo"
      }
    },
    {
      "cell_type": "code",
      "source": [
        "#AdaBoost (tuning n_estimators)\n",
        "ab_params = {'n_estimators': [10, 50, 100, 200]}\n",
        "ab = GridSearchCV(AdaBoostClassifier(random_state=42), ab_params, cv=5)\n",
        "#Training\n",
        "ab.fit(X_train, y_train)\n",
        "#Show the Best Hyperparameters\n",
        "print(\"Best AdaBoost n_estimators:\", ab.best_params_)\n",
        "#Evaluation\n",
        "evaluate_model(\"AdaBoost\", ab.best_estimator_, X_test, y_test)"
      ],
      "metadata": {
        "colab": {
          "base_uri": "https://localhost:8080/",
          "height": 646
        },
        "id": "VEVHP3XIb8xY",
        "outputId": "50109a46-0453-45ac-f764-1769b13893cf"
      },
      "execution_count": null,
      "outputs": [
        {
          "output_type": "stream",
          "name": "stdout",
          "text": [
            "Best AdaBoost n_estimators: {'n_estimators': 200}\n",
            "\n",
            "=== AdaBoost ===\n",
            "Accuracy: 0.8454258675078864\n",
            "Precision: 0.8554490413723511\n",
            "Recall: 0.9164864864864865\n",
            "F1 Score: 0.8849164926931107\n",
            "Confusion Matrix:\n",
            " [[3391  309]\n",
            " [ 573 1433]]\n"
          ]
        },
        {
          "output_type": "display_data",
          "data": {
            "text/plain": [
              "<Figure size 640x480 with 2 Axes>"
            ],
            "image/png": "[encoded data removed]"
          },
          "metadata": {}
        }
      ]
    },
    {
      "cell_type": "markdown",
      "source": [
        "\n",
        "\n",
        "\n",
        "---\n",
        "\n",
        "\n",
        "# **7.   Training the Random Forest**\n",
        "\n",
        "```\n",
        "rf_params = {'n_estimators': [10, 50, 100, 200]}\n",
        "```\n",
        "\n",
        "\n",
        "*   Define parameter grid for tuning n_estimators of Random Forest.\n",
        "\n",
        "\n",
        "```\n",
        "rf = GridSearchCV(RandomForestClassifier(random_state=42), rf_params, cv=5)\n",
        "\n",
        "```\n",
        "\n",
        "\n",
        "\n",
        "*   Initialize GridSearchCV with RandomForestClassifier and 5-fold cross-validation.\n",
        "\n",
        "```\n",
        "rf.fit(X_train, y_train)\n",
        "```\n",
        "\n",
        "\n",
        "*   Fit the model on training data (X_train, y_train) to search for the best n_estimators.\n",
        "\n",
        "\n",
        "```\n",
        "print(\"Best Random Forest n_estimators:\", rf.best_params_)\n",
        "```\n",
        "\n",
        "\n",
        "*   Print best parameter (n_estimators) found by GridSearchCV.\n",
        "\n",
        "\n",
        "```\n",
        "evaluate_model(\"Random Forest\", rf.best_estimator_, X_test, y_test)\n",
        "```\n",
        "\n",
        "\n",
        "\n",
        "*   Evaluate the best model on the test set (X_test, y_test) using the evaluate_model function.\n",
        "\n",
        "**Outputs:**\n",
        "\n",
        "* Accuracy, Precision, Recall, F1-Score\n",
        "\n",
        "* Confusion matrix (printed and heatmap)\n",
        "\n",
        "\n",
        "\n",
        "\n",
        "\n",
        "\n",
        "\n",
        "\n",
        "\n",
        "\n",
        "\n",
        "\n",
        "\n",
        "\n",
        "\n"
      ],
      "metadata": {
        "id": "4qAa4ZaX_kch"
      }
    },
    {
      "cell_type": "code",
      "source": [
        "#Random Forest (tuning n_estimators)\n",
        "rf_params = {'n_estimators': [10, 50, 100, 200]}\n",
        "rf = GridSearchCV(RandomForestClassifier(random_state=42), rf_params, cv=5)\n",
        "rf.fit(X_train, y_train)\n",
        "print(\"Best Random Forest n_estimators:\", rf.best_params_)\n",
        "evaluate_model(\"Random Forest\", rf.best_estimator_, X_test, y_test)"
      ],
      "metadata": {
        "colab": {
          "base_uri": "https://localhost:8080/",
          "height": 646
        },
        "id": "cxJBm2P07l_-",
        "outputId": "2b1efd67-cc6d-4feb-a939-684883dfe574"
      },
      "execution_count": null,
      "outputs": [
        {
          "output_type": "stream",
          "name": "stdout",
          "text": [
            "Best Random Forest n_estimators: {'n_estimators': 200}\n",
            "\n",
            "=== Random Forest ===\n",
            "Accuracy: 0.8803014370837715\n",
            "Precision: 0.8835494533435037\n",
            "Recall: 0.9391891891891891\n",
            "F1 Score: 0.9105201100484738\n",
            "Confusion Matrix:\n",
            " [[3475  225]\n",
            " [ 458 1548]]\n"
          ]
        },
        {
          "output_type": "display_data",
          "data": {
            "text/plain": [
              "<Figure size 640x480 with 2 Axes>"
            ],
            "image/png": "[encoded data removed]"
          },
          "metadata": {}
        }
      ]
    },
    {
      "cell_type": "markdown",
      "source": [
        "\n",
        "\n",
        "---\n",
        "\n",
        "\n",
        "# **8. Training the Naive Bayes**\n",
        "\n",
        "\n",
        "\n",
        "```\n",
        "nb = GaussianNB()\n",
        "```\n",
        "\n",
        "\n",
        "\n",
        "*   Initialize Naive Bayes model\n",
        "\n",
        "\n",
        "```\n",
        "nb.fit(X_train, y_train)\n",
        "```\n",
        "\n",
        "\n",
        "*   Fit the model on training data\n",
        "\n",
        "\n",
        "```\n",
        "evaluate_model(\"Naive Bayes\", nb, X_test, y_test)\n",
        "```\n",
        "\n",
        "\n",
        "*   Evaluate the Naive Bayes model using the evaluate_model function on the test set (X_test, y_test).\n",
        "\n",
        "\n",
        "**Outputs:**\n",
        "\n",
        "* Accuracy, Precision, Recall, F1-Score\n",
        "\n",
        "* Confusion matrix (printed and heatmap)\n",
        "\n",
        "\n",
        "\n",
        "\n"
      ],
      "metadata": {
        "id": "3gX1Kb8i_ipp"
      }
    },
    {
      "cell_type": "code",
      "source": [
        "#Naive Bayes\n",
        "nb = GaussianNB()\n",
        "nb.fit(X_train, y_train)\n",
        "evaluate_model(\"Naive Bayes\", nb, X_test, y_test)"
      ],
      "metadata": {
        "colab": {
          "base_uri": "https://localhost:8080/",
          "height": 628
        },
        "id": "RRjPMZPm7fcy",
        "outputId": "756f9dee-3848-40ba-8cd7-834ac166f79e"
      },
      "execution_count": 55,
      "outputs": [
        {
          "output_type": "stream",
          "name": "stdout",
          "text": [
            "\n",
            "=== Naive Bayes ===\n",
            "Accuracy: 0.7239747634069401\n",
            "Precision: 0.7304272392105834\n",
            "Recall: 0.9102702702702703\n",
            "F1 Score: 0.8104921188785946\n",
            "Confusion Matrix:\n",
            " [[3368  332]\n",
            " [1243  763]]\n"
          ]
        },
        {
          "output_type": "display_data",
          "data": {
            "text/plain": [
              "<Figure size 640x480 with 2 Axes>"
            ],
            "image/png": "[encoded data removed]"
          },
          "metadata": {}
        }
      ]
    },
    {
      "cell_type": "code",
      "source": [
        "results = {\n",
        "    \"Model\": [\"Decision Tree\", \"AdaBoost\", \"Random Forest\", \"Naive Bayes\"],\n",
        "    \"Accuracy\": [accuracy_score(y_test, dt.predict(X_test)),\n",
        "                 accuracy_score(y_test, ab.best_estimator_.predict(X_test)),\n",
        "                 accuracy_score(y_test, rf.best_estimator_.predict(X_test)),\n",
        "                 accuracy_score(y_test, nb.predict(X_test))],\n",
        "    \"F1 Score\": [f1_score(y_test, dt.predict(X_test), pos_label='g'), # Changed here\n",
        "                 f1_score(y_test, ab.best_estimator_.predict(X_test), pos_label='g'), # Changed here\n",
        "                 f1_score(y_test, rf.best_estimator_.predict(X_test), pos_label='g'), # Changed here\n",
        "                 f1_score(y_test, nb.predict(X_test), pos_label='g')] # Changed here\n",
        "}\n",
        "\n",
        "summary_df = pd.DataFrame(results)\n",
        "print(summary_df)"
      ],
      "metadata": {
        "colab": {
          "base_uri": "https://localhost:8080/"
        },
        "id": "85JttktDepUC",
        "outputId": "f3c509c4-f39a-49eb-f589-048f647c18f8"
      },
      "execution_count": 56,
      "outputs": [
        {
          "output_type": "stream",
          "name": "stdout",
          "text": [
            "           Model  Accuracy  F1 Score\n",
            "0  Decision Tree  0.825797  0.865603\n",
            "1       AdaBoost  0.845426  0.884916\n",
            "2  Random Forest  0.880301  0.910520\n",
            "3    Naive Bayes  0.723975  0.810492\n"
          ]
        }
      ]
    },
    {
      "cell_type": "markdown",
      "source": [
        "\n",
        "\n",
        "---\n",
        "\n",
        "\n",
        "# **9.Comments & Observations**\n",
        "* **Random Forest** achieved the best overall performance in terms of accuracy and F1-score, thanks to its ensemble nature and robustness to overfitting.\n",
        "\n",
        "* **AdaBoost** was a close second, with slightly better recall, making it strong for detecting true positives (gamma rays).\n",
        "\n",
        "* **Naive Bayes** performed the worst, likely due to its assumption of feature independence, which may not hold in this dataset.\n",
        "\n",
        "* **Decision Tree** gave reasonable performance but is more prone to overfitting without pruning or ensemble techniques.\n",
        "\n",
        "* Using **cross-validation** for tuning `n_estimators` significantly improved the performance of both Random Forest and AdaBoost.\n",
        "\n",
        "\n",
        "---\n",
        "\n",
        "\n",
        "\n"
      ],
      "metadata": {
        "id": "NVsi5MxkRSn5"
      }
    }
  ]
}